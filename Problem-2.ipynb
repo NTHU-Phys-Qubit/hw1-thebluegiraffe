{
 "cells": [
  {
   "cell_type": "code",
   "execution_count": 1,
   "metadata": {},
   "outputs": [],
   "source": [
    "import numpy as np\n",
    "import matplotlib.pyplot as plt"
   ]
  },
  {
   "cell_type": "markdown",
   "metadata": {},
   "source": [
    "# 2D Random walk\n",
    "\n",
    "We will concider three kinds of 2D random talk.\n",
    "* $dx$ and $dy$ are uniformly distributed between $[-1/2, +1/2]$.\n",
    "* $dx=+1$ with probability 1/2 and $dx=-1$ with probability 1/2. Similarly for $dy$.\n",
    "* $(dx, dy)=(\\cos(\\theta), \\sin(\\theta))$ where $\\theta$ is uniformly distributed between $[0, 2\\pi]$.\n",
    "\n",
    "For all kinds of the 2D random walk, you should do the following:\n",
    "* Plot a single trajectory.\n",
    "* Plot the distribution of the end point for an ensemble of trajectories.\n",
    "* Plot the histogram of the $r=x^2_f+y^2_f$ for an ensemble of trajectories."
   ]
  },
  {
   "cell_type": "code",
   "execution_count": null,
   "metadata": {},
   "outputs": [],
   "source": []
  }
 ],
 "metadata": {
  "kernelspec": {
   "display_name": "Python 3",
   "language": "python",
   "name": "python3"
  },
  "language_info": {
   "codemirror_mode": {
    "name": "ipython",
    "version": 3
   },
   "file_extension": ".py",
   "mimetype": "text/x-python",
   "name": "python",
   "nbconvert_exporter": "python",
   "pygments_lexer": "ipython3",
   "version": "3.7.3"
  }
 },
 "nbformat": 4,
 "nbformat_minor": 4
}
